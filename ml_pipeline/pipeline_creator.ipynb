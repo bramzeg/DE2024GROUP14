{
 "cells": [
  {
   "cell_type": "code",
   "execution_count": 1,
   "id": "b2e9540c-09ad-4e69-abbd-b0728662d925",
   "metadata": {
    "tags": []
   },
   "outputs": [
    {
     "name": "stdout",
     "output_type": "stream",
     "text": [
      "Requirement already satisfied: kfp>2 in /home/jupyter/.local/lib/python3.10/site-packages (2.7.0)\n",
      "Collecting kfp>2\n",
      "  Downloading kfp-2.9.0.tar.gz (595 kB)\n",
      "\u001b[2K     \u001b[90m━━━━━━━━━━━━━━━━━━━━━━━━━━━━━━━━━━━━━━\u001b[0m \u001b[32m595.6/595.6 kB\u001b[0m \u001b[31m30.1 MB/s\u001b[0m eta \u001b[36m0:00:00\u001b[0m\n",
      "\u001b[?25h  Preparing metadata (setup.py) ... \u001b[?25ldone\n",
      "\u001b[?25hRequirement already satisfied: google-cloud-pipeline-components>2 in /home/jupyter/.local/lib/python3.10/site-packages (2.17.0)\n",
      "Requirement already satisfied: google-cloud-aiplatform in /home/jupyter/.local/lib/python3.10/site-packages (1.70.0)\n",
      "Requirement already satisfied: click<9,>=8.0.0 in /opt/conda/lib/python3.10/site-packages (from kfp>2) (8.1.7)\n",
      "Requirement already satisfied: docstring-parser<1,>=0.7.3 in /opt/conda/lib/python3.10/site-packages (from kfp>2) (0.16)\n",
      "Requirement already satisfied: google-api-core!=2.0.*,!=2.1.*,!=2.2.*,!=2.3.0,<3.0.0dev,>=1.31.5 in /home/jupyter/.local/lib/python3.10/site-packages (from kfp>2) (2.21.0)\n",
      "Requirement already satisfied: google-auth<3,>=1.6.1 in /opt/conda/lib/python3.10/site-packages (from kfp>2) (2.35.0)\n",
      "Requirement already satisfied: google-cloud-storage<3,>=2.2.1 in /opt/conda/lib/python3.10/site-packages (from kfp>2) (2.14.0)\n",
      "Collecting kfp-pipeline-spec==0.4.0 (from kfp>2)\n",
      "  Downloading kfp_pipeline_spec-0.4.0-py3-none-any.whl.metadata (301 bytes)\n",
      "Collecting kfp-server-api<2.4.0,>=2.1.0 (from kfp>2)\n",
      "  Downloading kfp_server_api-2.3.0.tar.gz (84 kB)\n",
      "  Preparing metadata (setup.py) ... \u001b[?25ldone\n",
      "\u001b[?25hRequirement already satisfied: kubernetes<31,>=8.0.0 in /opt/conda/lib/python3.10/site-packages (from kfp>2) (26.1.0)\n",
      "Requirement already satisfied: protobuf<5,>=4.21.1 in /home/jupyter/.local/lib/python3.10/site-packages (from kfp>2) (4.25.5)\n",
      "Requirement already satisfied: PyYAML<7,>=5.3 in /opt/conda/lib/python3.10/site-packages (from kfp>2) (6.0.2)\n",
      "Requirement already satisfied: requests-toolbelt<1,>=0.8.0 in /opt/conda/lib/python3.10/site-packages (from kfp>2) (0.10.1)\n",
      "Requirement already satisfied: tabulate<1,>=0.8.6 in /opt/conda/lib/python3.10/site-packages (from kfp>2) (0.9.0)\n",
      "Requirement already satisfied: urllib3<2.0.0 in /opt/conda/lib/python3.10/site-packages (from kfp>2) (1.26.20)\n",
      "Requirement already satisfied: Jinja2<4,>=3.1.2 in /opt/conda/lib/python3.10/site-packages (from google-cloud-pipeline-components>2) (3.1.4)\n",
      "Requirement already satisfied: kfp-pipeline-spec==0.3.0 in /home/jupyter/.local/lib/python3.10/site-packages (from kfp>2) (0.3.0)\n",
      "Requirement already satisfied: kfp-server-api<2.1.0,>=2.0.0 in /opt/conda/lib/python3.10/site-packages (from kfp>2) (2.0.5)\n",
      "Requirement already satisfied: proto-plus<2.0.0dev,>=1.22.3 in /opt/conda/lib/python3.10/site-packages (from google-cloud-aiplatform) (1.24.0)\n",
      "Requirement already satisfied: packaging>=14.3 in /opt/conda/lib/python3.10/site-packages (from google-cloud-aiplatform) (24.1)\n",
      "Requirement already satisfied: google-cloud-bigquery!=3.20.0,<4.0.0dev,>=1.15.0 in /opt/conda/lib/python3.10/site-packages (from google-cloud-aiplatform) (3.25.0)\n",
      "Requirement already satisfied: google-cloud-resource-manager<3.0.0dev,>=1.3.3 in /opt/conda/lib/python3.10/site-packages (from google-cloud-aiplatform) (1.12.5)\n",
      "Requirement already satisfied: shapely<3.0.0dev in /opt/conda/lib/python3.10/site-packages (from google-cloud-aiplatform) (2.0.6)\n",
      "Requirement already satisfied: pydantic<3 in /opt/conda/lib/python3.10/site-packages (from google-cloud-aiplatform) (1.10.18)\n",
      "Requirement already satisfied: googleapis-common-protos<2.0.dev0,>=1.56.2 in /opt/conda/lib/python3.10/site-packages (from google-api-core!=2.0.*,!=2.1.*,!=2.2.*,!=2.3.0,<3.0.0dev,>=1.31.5->kfp>2) (1.65.0)\n",
      "Requirement already satisfied: requests<3.0.0.dev0,>=2.18.0 in /opt/conda/lib/python3.10/site-packages (from google-api-core!=2.0.*,!=2.1.*,!=2.2.*,!=2.3.0,<3.0.0dev,>=1.31.5->kfp>2) (2.32.3)\n",
      "Requirement already satisfied: grpcio<2.0dev,>=1.33.2 in /opt/conda/lib/python3.10/site-packages (from google-api-core[grpc]!=2.0.*,!=2.1.*,!=2.2.*,!=2.3.*,!=2.4.*,!=2.5.*,!=2.6.*,!=2.7.*,<3.0.0dev,>=1.34.1->google-cloud-aiplatform) (1.66.1)\n",
      "Requirement already satisfied: grpcio-status<2.0.dev0,>=1.33.2 in /opt/conda/lib/python3.10/site-packages (from google-api-core[grpc]!=2.0.*,!=2.1.*,!=2.2.*,!=2.3.*,!=2.4.*,!=2.5.*,!=2.6.*,!=2.7.*,<3.0.0dev,>=1.34.1->google-cloud-aiplatform) (1.48.2)\n",
      "Requirement already satisfied: cachetools<6.0,>=2.0.0 in /opt/conda/lib/python3.10/site-packages (from google-auth<3,>=1.6.1->kfp>2) (5.5.0)\n",
      "Requirement already satisfied: pyasn1-modules>=0.2.1 in /opt/conda/lib/python3.10/site-packages (from google-auth<3,>=1.6.1->kfp>2) (0.4.1)\n",
      "Requirement already satisfied: rsa<5,>=3.1.4 in /opt/conda/lib/python3.10/site-packages (from google-auth<3,>=1.6.1->kfp>2) (4.9)\n",
      "Requirement already satisfied: google-cloud-core<3.0.0dev,>=1.6.0 in /opt/conda/lib/python3.10/site-packages (from google-cloud-bigquery!=3.20.0,<4.0.0dev,>=1.15.0->google-cloud-aiplatform) (2.4.1)\n",
      "Requirement already satisfied: google-resumable-media<3.0dev,>=0.6.0 in /opt/conda/lib/python3.10/site-packages (from google-cloud-bigquery!=3.20.0,<4.0.0dev,>=1.15.0->google-cloud-aiplatform) (2.7.2)\n",
      "Requirement already satisfied: python-dateutil<3.0dev,>=2.7.2 in /opt/conda/lib/python3.10/site-packages (from google-cloud-bigquery!=3.20.0,<4.0.0dev,>=1.15.0->google-cloud-aiplatform) (2.9.0.post0)\n",
      "Requirement already satisfied: grpc-google-iam-v1<1.0.0dev,>=0.12.4 in /opt/conda/lib/python3.10/site-packages (from google-cloud-resource-manager<3.0.0dev,>=1.3.3->google-cloud-aiplatform) (0.13.1)\n",
      "Requirement already satisfied: google-crc32c<2.0dev,>=1.0 in /opt/conda/lib/python3.10/site-packages (from google-cloud-storage<3,>=2.2.1->kfp>2) (1.6.0)\n",
      "Requirement already satisfied: MarkupSafe>=2.0 in /opt/conda/lib/python3.10/site-packages (from Jinja2<4,>=3.1.2->google-cloud-pipeline-components>2) (2.1.5)\n",
      "Requirement already satisfied: six>=1.10 in /opt/conda/lib/python3.10/site-packages (from kfp-server-api<2.1.0,>=2.0.0->kfp>2) (1.16.0)\n",
      "Requirement already satisfied: certifi in /opt/conda/lib/python3.10/site-packages (from kfp-server-api<2.1.0,>=2.0.0->kfp>2) (2024.8.30)\n",
      "Requirement already satisfied: setuptools>=21.0.0 in /opt/conda/lib/python3.10/site-packages (from kubernetes<31,>=8.0.0->kfp>2) (73.0.1)\n",
      "Requirement already satisfied: websocket-client!=0.40.0,!=0.41.*,!=0.42.*,>=0.32.0 in /opt/conda/lib/python3.10/site-packages (from kubernetes<31,>=8.0.0->kfp>2) (1.8.0)\n",
      "Requirement already satisfied: requests-oauthlib in /opt/conda/lib/python3.10/site-packages (from kubernetes<31,>=8.0.0->kfp>2) (2.0.0)\n",
      "Requirement already satisfied: typing-extensions>=4.2.0 in /opt/conda/lib/python3.10/site-packages (from pydantic<3->google-cloud-aiplatform) (4.12.2)\n",
      "Requirement already satisfied: numpy<3,>=1.14 in /opt/conda/lib/python3.10/site-packages (from shapely<3.0.0dev->google-cloud-aiplatform) (1.25.2)\n",
      "Requirement already satisfied: pyasn1<0.7.0,>=0.4.6 in /opt/conda/lib/python3.10/site-packages (from pyasn1-modules>=0.2.1->google-auth<3,>=1.6.1->kfp>2) (0.6.1)\n",
      "Requirement already satisfied: charset-normalizer<4,>=2 in /opt/conda/lib/python3.10/site-packages (from requests<3.0.0.dev0,>=2.18.0->google-api-core!=2.0.*,!=2.1.*,!=2.2.*,!=2.3.0,<3.0.0dev,>=1.31.5->kfp>2) (3.3.2)\n",
      "Requirement already satisfied: idna<4,>=2.5 in /opt/conda/lib/python3.10/site-packages (from requests<3.0.0.dev0,>=2.18.0->google-api-core!=2.0.*,!=2.1.*,!=2.2.*,!=2.3.0,<3.0.0dev,>=1.31.5->kfp>2) (3.8)\n",
      "Requirement already satisfied: oauthlib>=3.0.0 in /opt/conda/lib/python3.10/site-packages (from requests-oauthlib->kubernetes<31,>=8.0.0->kfp>2) (3.2.2)\n"
     ]
    }
   ],
   "source": [
    "# Install the packages\n",
    "! pip3 install --user --no-cache-dir --upgrade \"kfp>2\" \"google-cloud-pipeline-components>2\" \\\n",
    "                                        google-cloud-aiplatform"
   ]
  },
  {
   "cell_type": "code",
   "execution_count": 101,
   "id": "2d83bdb5-aee5-4cef-aeb9-7e159c156476",
   "metadata": {
    "tags": []
   },
   "outputs": [],
   "source": [
    "import os\n",
    "\n",
    "if not os.getenv(\"IS_TESTING\"):\n",
    "    # Automatically restart kernel after installs\n",
    "    import IPython\n",
    "\n",
    "    app = IPython.Application.instance()\n",
    "    app.kernel.do_shutdown(True)"
   ]
  },
  {
   "cell_type": "code",
   "execution_count": 1,
   "id": "1fa77a58-f6c7-4823-a52f-557f9d31b08b",
   "metadata": {
    "tags": []
   },
   "outputs": [
    {
     "name": "stdout",
     "output_type": "stream",
     "text": [
      "KFP SDK version: 2.7.0\n",
      "google-cloud-aiplatform==1.70.0\n",
      "google_cloud_pipeline_components version: 2.17.0\n"
     ]
    }
   ],
   "source": [
    "! python3 -c \"import kfp; print('KFP SDK version: {}'.format(kfp.__version__))\"\n",
    "! pip3 freeze | grep aiplatform\n",
    "! python3 -c \"import google_cloud_pipeline_components; print('google_cloud_pipeline_components version: {}'.format(google_cloud_pipeline_components.__version__))\""
   ]
  },
  {
   "cell_type": "code",
   "execution_count": 2,
   "id": "cadec3ca-3252-4923-b105-ad953226364d",
   "metadata": {
    "tags": []
   },
   "outputs": [],
   "source": [
    "import kfp\n",
    "import typing\n",
    "from typing import Dict\n",
    "from typing import NamedTuple\n",
    "from kfp import dsl\n",
    "from kfp.dsl import (Artifact,\n",
    "                        Dataset,\n",
    "                        Input,\n",
    "                        Model,\n",
    "                        Output,\n",
    "                        Metrics,\n",
    "                        ClassificationMetrics,\n",
    "                        component, \n",
    "                        OutputPath, \n",
    "                        InputPath)\n",
    "import google.cloud.aiplatform as aip\n",
    "from google_cloud_pipeline_components.v1.model import ModelUploadOp\n",
    "from google_cloud_pipeline_components.v1.endpoint import (EndpointCreateOp,ModelDeployOp)\n",
    "from google_cloud_pipeline_components.types import artifact_types"
   ]
  },
  {
   "cell_type": "code",
   "execution_count": 3,
   "id": "481aed08-1ec0-4377-af0b-de58316e5879",
   "metadata": {
    "tags": []
   },
   "outputs": [],
   "source": [
    "#The Google Cloud project that this pipeline runs in.\n",
    "PROJECT_ID = \"de2024-435509\"\n",
    "# The region that this pipeline runs in\n",
    "REGION = \"us-central1\"\n",
    "# Specify a Cloud Storage URI that your pipelines service account can access. The artifacts of your pipeline runs are stored within the pipeline root.\n",
    "PIPELINE_ROOT = \"gs://temp_de2024_bz\"   # e.g., gs://temp_de2024"
   ]
  },
  {
   "cell_type": "code",
   "execution_count": 4,
   "id": "40895820-f1ef-4523-acbf-8b6a17b8780f",
   "metadata": {
    "tags": []
   },
   "outputs": [],
   "source": [
    "@dsl.component(\n",
    "    packages_to_install=[\"pandas\", \"scikit-learn==1.3.2\"],\n",
    "    base_image=\"python:3.10.7-slim\"\n",
    ")\n",
    "def train_test_split(dataset: Input[Dataset], dataset_train: Output[Dataset], dataset_test: Output[Dataset]):\n",
    "    '''train_test_split'''\n",
    "    import pandas as pd\n",
    "    import logging \n",
    "    import sys\n",
    "    from sklearn.model_selection import train_test_split as tts\n",
    "    \n",
    "    logging.basicConfig(stream=sys.stdout, level=logging.INFO) \n",
    "    \n",
    "    alldata = pd.read_csv(dataset.path, index_col=None)\n",
    "    train, test = tts(alldata, test_size=0.3)\n",
    "    train.to_csv(dataset_train.path + \".csv\" , index=False, encoding='utf-8-sig')\n",
    "    test.to_csv(dataset_test.path + \".csv\" , index=False, encoding='utf-8-sig')"
   ]
  },
  {
   "cell_type": "code",
   "execution_count": 5,
   "id": "9675e6da-8930-440d-a25e-451c7fd247e8",
   "metadata": {
    "tags": []
   },
   "outputs": [],
   "source": [
    "@dsl.component(\n",
    "    packages_to_install=[\"pandas\", \"scikit-learn==1.3.2\", \"joblib\"],\n",
    "    base_image=\"python:3.10.7-slim\"\n",
    ")\n",
    "def train_rf(features: Input[Dataset], rf_model: Output[Model]):\n",
    "    '''Train a RandomForestClassifier using message text as features and label as the target'''\n",
    "    import pandas as pd\n",
    "    from sklearn.ensemble import RandomForestClassifier\n",
    "    from sklearn.pipeline import Pipeline\n",
    "    from sklearn.feature_extraction.text import TfidfVectorizer\n",
    "    import joblib\n",
    "    \n",
    "    # Load the dataset, handling encoding for any special characters\n",
    "    data = pd.read_csv(features.path + \".csv\", encoding=\"utf-8\")\n",
    "    \n",
    "    # Separate features and target\n",
    "    X = data['message'].fillna(\"\").astype(str).str.lower()    # Message column as the feature\n",
    "    y = data['label']      # Label column as the target\n",
    "    \n",
    "    # Define the pipeline: text vectorization and classifier\n",
    "    pipeline = Pipeline([\n",
    "        ('vectorizer', TfidfVectorizer()),     # Convert text to TF-IDF features\n",
    "        ('classifier', RandomForestClassifier())  # Train the RandomForestClassifier\n",
    "    ])\n",
    "    \n",
    "    # Fit the pipeline to the data\n",
    "    pipeline.fit(X, y)\n",
    "    \n",
    "    # Save metadata and the model\n",
    "    rf_model.metadata[\"framework\"] = \"RandomForest\"\n",
    "    file_name = rf_model.path + \".joblib\"\n",
    "    joblib.dump(pipeline, file_name)\n"
   ]
  },
  {
   "cell_type": "code",
   "execution_count": 6,
   "id": "9ce55efa-3621-429f-8e36-917e3b2a7c69",
   "metadata": {
    "tags": []
   },
   "outputs": [],
   "source": [
    "@dsl.component(\n",
    "    packages_to_install=[\"pandas\", \"scikit-learn==1.3.2\",\"joblib\"],\n",
    "    base_image=\"python:3.10.7-slim\"\n",
    ")\n",
    "def train_nb(features: Input[Dataset], nb_model: Output[Model]):\n",
    "    '''Train a Naive Bayes (MultinomialNB) using message text as features and label as the target'''\n",
    "    import pandas as pd\n",
    "    from sklearn.naive_bayes import MultinomialNB\n",
    "    from sklearn.pipeline import Pipeline\n",
    "    from sklearn.feature_extraction.text import TfidfVectorizer\n",
    "    import joblib\n",
    "\n",
    "    # Load the dataset, handling encoding for any special characters\n",
    "    data = pd.read_csv(features.path + \".csv\", encoding=\"utf-8\")\n",
    "    \n",
    "    # Separate features and target\n",
    "    X = data['message'].fillna(\"\").astype(str).str.lower()    # Message column as the feature\n",
    "    y = data['label']      # Label column as the target\n",
    "    \n",
    "    # Define the pipeline for MultinomialNB\n",
    "    nb_pipeline = Pipeline([\n",
    "        ('vectorizer', TfidfVectorizer()),       # Convert text to TF-IDF features\n",
    "        ('classifier', MultinomialNB())          # MultinomialNB pipeline\n",
    "    ])\n",
    "    \n",
    "    # Train the Naive Bayes pipeline\n",
    "    nb_pipeline.fit(X, y)\n",
    "    \n",
    "    # Save Naive Bayes model\n",
    "    nb_model.metadata[\"framework\"] = \"NaiveBayes\"\n",
    "    nb_file_name = nb_model.path + f\".joblib\"\n",
    "    joblib.dump(nb_pipeline, nb_file_name)"
   ]
  },
  {
   "cell_type": "code",
   "execution_count": 15,
   "id": "37acf388-9d52-4da4-a867-376f3abbba0d",
   "metadata": {
    "tags": []
   },
   "outputs": [],
   "source": [
    "@dsl.component(\n",
    "    packages_to_install=[\n",
    "        \"pandas\", \"scikit-learn==1.3.2\", \"numpy\", \"joblib\"\n",
    "    ], base_image=\"python:3.10.7-slim\"\n",
    ")\n",
    "def model_evaluation(\n",
    "    test_set: Input[Dataset],\n",
    "    model: Input[Model],\n",
    "    thresholds_dict_str: str,\n",
    "    metrics: Output[ClassificationMetrics],\n",
    "    kpi: Output[Metrics]\n",
    ") -> NamedTuple('outputs', [('approval',bool),('accuracy', float)]):\n",
    "  \n",
    "    import pandas as pd\n",
    "    from sklearn.metrics import roc_curve, confusion_matrix, accuracy_score\n",
    "    import json\n",
    "    import joblib\n",
    "    from numpy import nan_to_num\n",
    "    \n",
    "    def threshold_check(val1, val2):\n",
    "        return val1 >= val2\n",
    "\n",
    "    # Load the test dataset\n",
    "    data = pd.read_csv(test_set.path + \".csv\")\n",
    "    \n",
    "    # Load the saved pipeline (with both vectorizer and classifier)\n",
    "    m_filename = model.path + \".joblib\"\n",
    "    model = joblib.load(m_filename)\n",
    "    \n",
    "    # Prepare test data\n",
    "    X_test = data['message'].fillna(\"\").astype(str).str.lower()   # Pass only 'message' column as features\n",
    "    y_target = data['label']  # 'label' is the target column\n",
    "    \n",
    "    # Predict and calculate scores\n",
    "    y_pred = model.predict(X_test)\n",
    "    y_scores = model.predict_proba(X_test)[:, 1]\n",
    " \n",
    "    # Calculate ROC curve values\n",
    "    fpr, tpr, thresholds = roc_curve(\n",
    "         y_true=y_target, y_score=y_scores, pos_label=True\n",
    "    )\n",
    "    thresholds = nan_to_num(thresholds)   \n",
    "    metrics.log_roc_curve(fpr, tpr, thresholds)  \n",
    "    \n",
    "    # Log confusion matrix\n",
    "    metrics.log_confusion_matrix(\n",
    "        ['Negative', 'Positive'],\n",
    "         confusion_matrix(y_target, y_pred).tolist(), \n",
    "    )\n",
    "    \n",
    "    # Calculate and log accuracy\n",
    "    accuracy = accuracy_score(y_target, y_pred)\n",
    "    thresholds_dict = json.loads(thresholds_dict_str)\n",
    "    kpi.log_metric(\"accuracy\", float(accuracy))\n",
    "    \n",
    "    # Approval check based on the threshold\n",
    "    outputs = NamedTuple('outputs', [('approval',bool),('accuracy', float)])\n",
    "    approval_value = threshold_check(float(accuracy), int(thresholds_dict['roc']))\n",
    "    return outputs(approval_value, accuracy)\n"
   ]
  },
  {
   "cell_type": "code",
   "execution_count": 16,
   "id": "988197e5-e94f-4435-871a-b1a685121f5f",
   "metadata": {
    "tags": []
   },
   "outputs": [],
   "source": [
    "@dsl.component(\n",
    "    packages_to_install=[],\n",
    "    base_image=\"python:3.10.7-slim\"\n",
    ")\n",
    "def get_best_model_name(\n",
    "    rf_accuracy: float,\n",
    "    nb_accuracy: float\n",
    ") -> NamedTuple('outputs', [('best_model_name', str)]):\n",
    "    '''Outputs the name of the model with the highest accuracy.'''\n",
    "    \n",
    "    # Determine the model with the highest accuracy\n",
    "    best_model_name = \"RandomForest\" if rf_accuracy >= nb_accuracy else \"NaiveBayes\"\n",
    "\n",
    "    outputs = NamedTuple('outputs', [('best_model_name', str)])\n",
    "    return outputs(best_model_name)"
   ]
  },
  {
   "cell_type": "code",
   "execution_count": 17,
   "id": "85a94fd9-d8dd-432b-b173-07b874462b8b",
   "metadata": {
    "tags": []
   },
   "outputs": [],
   "source": [
    "@dsl.component(\n",
    "    packages_to_install=[\"google-cloud-storage\", \"joblib\"],\n",
    "    base_image=\"python:3.10.7-slim\"\n",
    ")\n",
    "def upload_model_to_gcs(project_id: str, model_repo: str, model: Input[Model]):\n",
    "    '''upload model to gsc'''\n",
    "    from google.cloud import storage   \n",
    "    import logging \n",
    "    import sys\n",
    "    import joblib\n",
    "    \n",
    "    logging.basicConfig(stream=sys.stdout, level=logging.INFO)    \n",
    "  \n",
    "    # upload the model to GCS\n",
    "    client = storage.Client(project=project_id)\n",
    "    bucket = client.bucket(model_repo)\n",
    "    blob = bucket.blob('model.joblib')\n",
    "    source_file_name= model.path + '.joblib'\n",
    "   \n",
    "    blob.upload_from_filename(source_file_name)    \n",
    "    \n",
    "    print(f\"File {source_file_name} uploaded to {model_repo}.\")"
   ]
  },
  {
   "cell_type": "code",
   "execution_count": 18,
   "id": "2104e819-8d4a-4f5e-92b3-be89b48e998b",
   "metadata": {
    "tags": []
   },
   "outputs": [],
   "source": [
    "# Define the workflow of the pipeline.\n",
    "@kfp.dsl.pipeline(\n",
    "    name=\"sms-predictor-training-pipeline\")\n",
    "def pipeline(project_id: str, data_bucket: str, dataset_uri: str, model_repo: str, thresholds_dict_str:str, model_repo_uri:str):    \n",
    "    \n",
    "    dataset_op = kfp.dsl.importer(\n",
    "        artifact_uri=dataset_uri,\n",
    "        artifact_class=Dataset,\n",
    "        reimport=False,\n",
    "    )\n",
    "     \n",
    "    train_test_split_op = train_test_split(dataset=dataset_op.output)\n",
    "        \n",
    "    training_lr_job_run_op_rf = train_rf(features=train_test_split_op.outputs[\"dataset_train\"])\n",
    "    training_lr_job_run_op_nb = train_nb(features=train_test_split_op.outputs[\"dataset_train\"])\n",
    "    \n",
    "    model_evaluation_op_rf = model_evaluation(\n",
    "        test_set=train_test_split_op.outputs[\"dataset_test\"],\n",
    "        model=training_lr_job_run_op_rf.outputs[\"rf_model\"],\n",
    "        thresholds_dict_str=thresholds_dict_str, # I deploy the model anly if the model performance is above the threshold\n",
    "    )\n",
    "    \n",
    "    model_evaluation_op_nb = model_evaluation(\n",
    "        test_set=train_test_split_op.outputs[\"dataset_test\"],\n",
    "        model=training_lr_job_run_op_nb.outputs[\"nb_model\"],\n",
    "        thresholds_dict_str=thresholds_dict_str, # I deploy the model anly if the model performance is above the threshold\n",
    "    )\n",
    "    \n",
    "    best_model_name_op = get_best_model_name(\n",
    "    rf_accuracy=model_evaluation_op_rf.outputs[\"accuracy\"],\n",
    "    nb_accuracy=model_evaluation_op_nb.outputs[\"accuracy\"]\n",
    ")\n",
    "    \n",
    "    # Conditionally upload RandomForest model if it's approved and has the highest accuracy\n",
    "    with dsl.If(model_evaluation_op_rf.outputs[\"approval\"] == True):\n",
    "        with dsl.If(best_model_name_op.outputs[\"best_model_name\"] == \"RandomForest\"):\n",
    "            upload_model_to_gc_op_rf = upload_model_to_gcs(\n",
    "                project_id=project_id,\n",
    "                model_repo=model_repo,\n",
    "                model=training_lr_job_run_op_rf.outputs['rf_model']\n",
    "            )\n",
    "    \n",
    "    # Conditionally upload NaiveBayes model if it's approved and has the highest accuracy\n",
    "    with dsl.If(model_evaluation_op_nb.outputs[\"approval\"] == True):\n",
    "        with dsl.If(best_model_name_op.outputs[\"best_model_name\"] == \"NaiveBayes\"):\n",
    "            upload_model_to_gc_op_nb = upload_model_to_gcs(\n",
    "                project_id=project_id,\n",
    "                model_repo=model_repo,\n",
    "                model=training_lr_job_run_op_nb.outputs['nb_model']\n",
    "            )"
   ]
  },
  {
   "cell_type": "code",
   "execution_count": 19,
   "id": "bd8082b6-76bc-4a5f-a618-ff66d5e1d150",
   "metadata": {
    "tags": []
   },
   "outputs": [],
   "source": [
    "from kfp import compiler\n",
    "compiler.Compiler().compile(pipeline_func=pipeline,\n",
    "        package_path='sms_prdictor_training_pipeline.yaml')"
   ]
  },
  {
   "cell_type": "code",
   "execution_count": 20,
   "id": "be9c0ae9-04f9-4d06-aa8b-d7e6f362bb4b",
   "metadata": {
    "tags": []
   },
   "outputs": [
    {
     "name": "stdout",
     "output_type": "stream",
     "text": [
      "Creating PipelineJob\n",
      "PipelineJob created. Resource name: projects/471717444362/locations/us-central1/pipelineJobs/sms-predictor-training-pipeline-20241025152119\n",
      "To use this PipelineJob in another session:\n",
      "pipeline_job = aiplatform.PipelineJob.get('projects/471717444362/locations/us-central1/pipelineJobs/sms-predictor-training-pipeline-20241025152119')\n",
      "View Pipeline Job:\n",
      "https://console.cloud.google.com/vertex-ai/locations/us-central1/pipelines/runs/sms-predictor-training-pipeline-20241025152119?project=471717444362\n",
      "PipelineJob projects/471717444362/locations/us-central1/pipelineJobs/sms-predictor-training-pipeline-20241025152119 current state:\n",
      "PipelineState.PIPELINE_STATE_RUNNING\n",
      "PipelineJob projects/471717444362/locations/us-central1/pipelineJobs/sms-predictor-training-pipeline-20241025152119 current state:\n",
      "PipelineState.PIPELINE_STATE_RUNNING\n",
      "PipelineJob projects/471717444362/locations/us-central1/pipelineJobs/sms-predictor-training-pipeline-20241025152119 current state:\n",
      "PipelineState.PIPELINE_STATE_RUNNING\n",
      "PipelineJob projects/471717444362/locations/us-central1/pipelineJobs/sms-predictor-training-pipeline-20241025152119 current state:\n",
      "PipelineState.PIPELINE_STATE_RUNNING\n",
      "PipelineJob projects/471717444362/locations/us-central1/pipelineJobs/sms-predictor-training-pipeline-20241025152119 current state:\n",
      "PipelineState.PIPELINE_STATE_RUNNING\n",
      "PipelineJob projects/471717444362/locations/us-central1/pipelineJobs/sms-predictor-training-pipeline-20241025152119 current state:\n",
      "PipelineState.PIPELINE_STATE_RUNNING\n",
      "PipelineJob run completed. Resource name: projects/471717444362/locations/us-central1/pipelineJobs/sms-predictor-training-pipeline-20241025152119\n"
     ]
    }
   ],
   "source": [
    "import google.cloud.aiplatform as aip\n",
    "\n",
    "# Before initializing, make sure to set the GOOGLE_APPLICATION_CREDENTIALS\n",
    "# environment variable to the path of your service account.\n",
    "aip.init(\n",
    "    project=PROJECT_ID,\n",
    "    location=REGION,\n",
    ")\n",
    "\n",
    "# Prepare the pipeline job\n",
    "job = aip.PipelineJob(\n",
    "    display_name=\"sms-predictor\",\n",
    "    enable_caching=False,\n",
    "    template_path=\"sms_prdictor_training_pipeline.yaml\",\n",
    "    pipeline_root=PIPELINE_ROOT,\n",
    "    location=REGION,\n",
    "    parameter_values={\n",
    "        'project_id': PROJECT_ID, # makesure to use your project id \n",
    "        'data_bucket': 'data_de2024_bz',  # makesure to use your data bucket name \n",
    "        'dataset_uri':'gs://data_de2024_bz/SMS_preporcessed.csv',\n",
    "        'model_repo':'models_de2024_bz', # makesure to use your model bucket name \n",
    "        'thresholds_dict_str':'{\"roc\":0.8}',\n",
    "        'model_repo_uri':'gs://models_de2024_bz' # makesure to use your model bucket name \n",
    "    }\n",
    ")\n",
    "\n",
    "job.run()"
   ]
  }
 ],
 "metadata": {
  "kernelspec": {
   "display_name": "Python (Local)",
   "language": "python",
   "name": "base"
  },
  "language_info": {
   "codemirror_mode": {
    "name": "ipython",
    "version": 3
   },
   "file_extension": ".py",
   "mimetype": "text/x-python",
   "name": "python",
   "nbconvert_exporter": "python",
   "pygments_lexer": "ipython3",
   "version": "3.10.15"
  }
 },
 "nbformat": 4,
 "nbformat_minor": 5
}
